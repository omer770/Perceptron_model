{
  "nbformat": 4,
  "nbformat_minor": 0,
  "metadata": {
    "colab": {
      "provenance": []
    },
    "kernelspec": {
      "name": "python3",
      "display_name": "Python 3"
    },
    "language_info": {
      "name": "python"
    }
  },
  "cells": [
    {
      "cell_type": "code",
      "execution_count": 16,
      "metadata": {
        "id": "TdDLefTERVlk"
      },
      "outputs": [],
      "source": [
        "import numpy as np\n",
        "import pandas as pd\n",
        "import os as OS\n",
        "import joblib"
      ]
    },
    {
      "cell_type": "code",
      "source": [
        "class Perceptron:\n",
        "  def __init__(self,eta: float= None, epochs: int = None):\n",
        "    self.weights = np.random.randn(3)*1e-4\n",
        "    training = (eta is not None ) and (epochs is not None)\n",
        "    if training:\n",
        "      print(f\"initial weights before training: \\n{self.weights}\")\n",
        "    self.eta = eta\n",
        "    self.epochs = epochs\n",
        "  def __z__outcome(self,inputs,weights ):\n",
        "    return np.dot(inputs,weights)\n",
        "\n",
        "  def activation_function(self,z):\n",
        "    return np.where(z>0,1,0)\n",
        "  def fit(self,X, y):\n",
        "    self.X = X\n",
        "    self.y = y\n",
        "    X_with_bias = np.c_[self.X,-np.ones((len(self.X),1))]\n",
        "    print(f\"X with Bias: \\n{X_with_bias}\")\n",
        "\n",
        "    for epoch in range(self.epochs):\n",
        "      print(\"--\"*10)\n",
        "      print(f\"for epoch >> {epoch}\")\n",
        "      print(\"--\"*10)\n",
        "\n",
        "      z = self.__z__outcome(X_with_bias,self.weights)\n",
        "      y_hat = self.activation_function(z)\n",
        "      print(f\"predicted values after forward pass: \\n {y_hat}\")\n",
        "      self.error = self.y-y_hat\n",
        "      print(f\"error: \\n{self.error}\")\n",
        "      self.weights = self.weights +self.eta*np.dot(X_with_bias.T,self.error)\n",
        "      print(f\"updated weigths after epoch: {epoch+1}/{self.epochs}: \\n{self.weights}\")\n",
        "      print(\"##\"*10)\n",
        "\n",
        "  def predict(self,X):\n",
        "    X_with_bias = np.c_[X,-np.ones((len(X),1))]\n",
        "    z = self.__z__outcome(X_with_bias,self.weights)\n",
        "    return self.activation_function(z)\n",
        "\n",
        "  def total_loss(self):\n",
        "    total_loss = np.sum(self.error)\n",
        "    print(f\"\\ntotal loss: {total_loss}\\n\")\n",
        "    return total_loss\n",
        "\n",
        "\n",
        "  def __create_dir_return_path(self,model_dir,filename):\n",
        "    OS.makedirs(model_dir,exist_ok = True)\n",
        "    return OS.path.join(model_dir,filename)\n",
        "\n",
        "  def save(self,filename, model_dir = None):\n",
        "    if model_dir is not None:\n",
        "      model_file_path = self.__create_dir_return_path(model_dir,filename)\n",
        "      joblib.dump(self, model_file_path)\n",
        "    else:\n",
        "      model_file_path = self.__create_dir_return_path(\"model\",filename)\n",
        "      joblib.dump(self,model_file_path)\n",
        "  def load(self,filepath):\n",
        "    return joblib.load(filepath)\n",
        ""
      ],
      "metadata": {
        "id": "HjBHDxo6m87E"
      },
      "execution_count": 11,
      "outputs": []
    },
    {
      "cell_type": "code",
      "source": [
        "AND = {\n",
        "    \"x1\" : [0,0,1,1],\n",
        "    \"x2\" : [0,1,0,1],\n",
        "    \"y\" : [0,0,0,1]\n",
        "}\n",
        "df_AND = pd.DataFrame(AND)\n",
        "df_AND"
      ],
      "metadata": {
        "id": "Y0Lauf6090iK",
        "colab": {
          "base_uri": "https://localhost:8080/",
          "height": 174
        },
        "outputId": "76f9460f-cfa6-4905-bc29-fda73188303f"
      },
      "execution_count": 6,
      "outputs": [
        {
          "output_type": "execute_result",
          "data": {
            "text/plain": [
              "   x1  x2  y\n",
              "0   0   0  0\n",
              "1   0   1  0\n",
              "2   1   0  0\n",
              "3   1   1  1"
            ],
            "text/html": [
              "\n",
              "  <div id=\"df-178d68b6-b9db-4d6b-90c8-3bf773aab256\">\n",
              "    <div class=\"colab-df-container\">\n",
              "      <div>\n",
              "<style scoped>\n",
              "    .dataframe tbody tr th:only-of-type {\n",
              "        vertical-align: middle;\n",
              "    }\n",
              "\n",
              "    .dataframe tbody tr th {\n",
              "        vertical-align: top;\n",
              "    }\n",
              "\n",
              "    .dataframe thead th {\n",
              "        text-align: right;\n",
              "    }\n",
              "</style>\n",
              "<table border=\"1\" class=\"dataframe\">\n",
              "  <thead>\n",
              "    <tr style=\"text-align: right;\">\n",
              "      <th></th>\n",
              "      <th>x1</th>\n",
              "      <th>x2</th>\n",
              "      <th>y</th>\n",
              "    </tr>\n",
              "  </thead>\n",
              "  <tbody>\n",
              "    <tr>\n",
              "      <th>0</th>\n",
              "      <td>0</td>\n",
              "      <td>0</td>\n",
              "      <td>0</td>\n",
              "    </tr>\n",
              "    <tr>\n",
              "      <th>1</th>\n",
              "      <td>0</td>\n",
              "      <td>1</td>\n",
              "      <td>0</td>\n",
              "    </tr>\n",
              "    <tr>\n",
              "      <th>2</th>\n",
              "      <td>1</td>\n",
              "      <td>0</td>\n",
              "      <td>0</td>\n",
              "    </tr>\n",
              "    <tr>\n",
              "      <th>3</th>\n",
              "      <td>1</td>\n",
              "      <td>1</td>\n",
              "      <td>1</td>\n",
              "    </tr>\n",
              "  </tbody>\n",
              "</table>\n",
              "</div>\n",
              "      <button class=\"colab-df-convert\" onclick=\"convertToInteractive('df-178d68b6-b9db-4d6b-90c8-3bf773aab256')\"\n",
              "              title=\"Convert this dataframe to an interactive table.\"\n",
              "              style=\"display:none;\">\n",
              "        \n",
              "  <svg xmlns=\"http://www.w3.org/2000/svg\" height=\"24px\"viewBox=\"0 0 24 24\"\n",
              "       width=\"24px\">\n",
              "    <path d=\"M0 0h24v24H0V0z\" fill=\"none\"/>\n",
              "    <path d=\"M18.56 5.44l.94 2.06.94-2.06 2.06-.94-2.06-.94-.94-2.06-.94 2.06-2.06.94zm-11 1L8.5 8.5l.94-2.06 2.06-.94-2.06-.94L8.5 2.5l-.94 2.06-2.06.94zm10 10l.94 2.06.94-2.06 2.06-.94-2.06-.94-.94-2.06-.94 2.06-2.06.94z\"/><path d=\"M17.41 7.96l-1.37-1.37c-.4-.4-.92-.59-1.43-.59-.52 0-1.04.2-1.43.59L10.3 9.45l-7.72 7.72c-.78.78-.78 2.05 0 2.83L4 21.41c.39.39.9.59 1.41.59.51 0 1.02-.2 1.41-.59l7.78-7.78 2.81-2.81c.8-.78.8-2.07 0-2.86zM5.41 20L4 18.59l7.72-7.72 1.47 1.35L5.41 20z\"/>\n",
              "  </svg>\n",
              "      </button>\n",
              "      \n",
              "  <style>\n",
              "    .colab-df-container {\n",
              "      display:flex;\n",
              "      flex-wrap:wrap;\n",
              "      gap: 12px;\n",
              "    }\n",
              "\n",
              "    .colab-df-convert {\n",
              "      background-color: #E8F0FE;\n",
              "      border: none;\n",
              "      border-radius: 50%;\n",
              "      cursor: pointer;\n",
              "      display: none;\n",
              "      fill: #1967D2;\n",
              "      height: 32px;\n",
              "      padding: 0 0 0 0;\n",
              "      width: 32px;\n",
              "    }\n",
              "\n",
              "    .colab-df-convert:hover {\n",
              "      background-color: #E2EBFA;\n",
              "      box-shadow: 0px 1px 2px rgba(60, 64, 67, 0.3), 0px 1px 3px 1px rgba(60, 64, 67, 0.15);\n",
              "      fill: #174EA6;\n",
              "    }\n",
              "\n",
              "    [theme=dark] .colab-df-convert {\n",
              "      background-color: #3B4455;\n",
              "      fill: #D2E3FC;\n",
              "    }\n",
              "\n",
              "    [theme=dark] .colab-df-convert:hover {\n",
              "      background-color: #434B5C;\n",
              "      box-shadow: 0px 1px 3px 1px rgba(0, 0, 0, 0.15);\n",
              "      filter: drop-shadow(0px 1px 2px rgba(0, 0, 0, 0.3));\n",
              "      fill: #FFFFFF;\n",
              "    }\n",
              "  </style>\n",
              "\n",
              "      <script>\n",
              "        const buttonEl =\n",
              "          document.querySelector('#df-178d68b6-b9db-4d6b-90c8-3bf773aab256 button.colab-df-convert');\n",
              "        buttonEl.style.display =\n",
              "          google.colab.kernel.accessAllowed ? 'block' : 'none';\n",
              "\n",
              "        async function convertToInteractive(key) {\n",
              "          const element = document.querySelector('#df-178d68b6-b9db-4d6b-90c8-3bf773aab256');\n",
              "          const dataTable =\n",
              "            await google.colab.kernel.invokeFunction('convertToInteractive',\n",
              "                                                     [key], {});\n",
              "          if (!dataTable) return;\n",
              "\n",
              "          const docLinkHtml = 'Like what you see? Visit the ' +\n",
              "            '<a target=\"_blank\" href=https://colab.research.google.com/notebooks/data_table.ipynb>data table notebook</a>'\n",
              "            + ' to learn more about interactive tables.';\n",
              "          element.innerHTML = '';\n",
              "          dataTable['output_type'] = 'display_data';\n",
              "          await google.colab.output.renderOutput(dataTable, element);\n",
              "          const docLink = document.createElement('div');\n",
              "          docLink.innerHTML = docLinkHtml;\n",
              "          element.appendChild(docLink);\n",
              "        }\n",
              "      </script>\n",
              "    </div>\n",
              "  </div>\n",
              "  "
            ]
          },
          "metadata": {},
          "execution_count": 6
        }
      ]
    },
    {
      "cell_type": "code",
      "source": [
        "def prepare_data(df, target_col = 'y'):\n",
        "  X = df.drop(\"y\",axis = 1)\n",
        "  y = df[target_col]\n",
        "  return X,y"
      ],
      "metadata": {
        "id": "U_lg1GFtJY73"
      },
      "execution_count": 7,
      "outputs": []
    },
    {
      "cell_type": "code",
      "source": [
        "X,y = prepare_data(df_AND)\n",
        "ETA = 0.1\n",
        "EPOCHS = 10\n",
        "\n",
        "model_and = Perceptron(eta = ETA, epochs=EPOCHS)"
      ],
      "metadata": {
        "colab": {
          "base_uri": "https://localhost:8080/"
        },
        "id": "9RQf2mYLJ-zp",
        "outputId": "713402e9-b4c2-4749-f5b4-d8bdbb5b4650"
      },
      "execution_count": 12,
      "outputs": [
        {
          "output_type": "stream",
          "name": "stdout",
          "text": [
            "initial weights before training: \n",
            "[-6.32760493e-05  1.53764721e-04 -1.34299970e-04]\n"
          ]
        }
      ]
    },
    {
      "cell_type": "code",
      "source": [
        "model_and.fit(X,y)\n",
        "_ = model_and.total_loss"
      ],
      "metadata": {
        "colab": {
          "base_uri": "https://localhost:8080/"
        },
        "id": "NeY_nUIfKJmC",
        "outputId": "ab280197-e7b7-4a84-fe1b-c2f6288bd3ee"
      },
      "execution_count": 13,
      "outputs": [
        {
          "output_type": "stream",
          "name": "stdout",
          "text": [
            "X with Bias: \n",
            "[[ 0.  0. -1.]\n",
            " [ 0.  1. -1.]\n",
            " [ 1.  0. -1.]\n",
            " [ 1.  1. -1.]]\n",
            "--------------------\n",
            "for epoch >> 0\n",
            "--------------------\n",
            "predicted values after forward pass: \n",
            " [1 1 1 1]\n",
            "error: \n",
            "0   -1\n",
            "1   -1\n",
            "2   -1\n",
            "3    0\n",
            "Name: y, dtype: int64\n",
            "updated weigths after epoch: 0/10: \n",
            "[-0.10006328 -0.09984624  0.2998657 ]\n",
            "####################\n",
            "--------------------\n",
            "for epoch >> 1\n",
            "--------------------\n",
            "predicted values after forward pass: \n",
            " [0 0 0 0]\n",
            "error: \n",
            "0    0\n",
            "1    0\n",
            "2    0\n",
            "3    1\n",
            "Name: y, dtype: int64\n",
            "updated weigths after epoch: 1/10: \n",
            "[-6.32760493e-05  1.53764721e-04  1.99865700e-01]\n",
            "####################\n",
            "--------------------\n",
            "for epoch >> 2\n",
            "--------------------\n",
            "predicted values after forward pass: \n",
            " [0 0 0 0]\n",
            "error: \n",
            "0    0\n",
            "1    0\n",
            "2    0\n",
            "3    1\n",
            "Name: y, dtype: int64\n",
            "updated weigths after epoch: 2/10: \n",
            "[0.09993672 0.10015376 0.0998657 ]\n",
            "####################\n",
            "--------------------\n",
            "for epoch >> 3\n",
            "--------------------\n",
            "predicted values after forward pass: \n",
            " [0 1 1 1]\n",
            "error: \n",
            "0    0\n",
            "1   -1\n",
            "2   -1\n",
            "3    0\n",
            "Name: y, dtype: int64\n",
            "updated weigths after epoch: 3/10: \n",
            "[-6.32760493e-05  1.53764721e-04  2.99865700e-01]\n",
            "####################\n",
            "--------------------\n",
            "for epoch >> 4\n",
            "--------------------\n",
            "predicted values after forward pass: \n",
            " [0 0 0 0]\n",
            "error: \n",
            "0    0\n",
            "1    0\n",
            "2    0\n",
            "3    1\n",
            "Name: y, dtype: int64\n",
            "updated weigths after epoch: 4/10: \n",
            "[0.09993672 0.10015376 0.1998657 ]\n",
            "####################\n",
            "--------------------\n",
            "for epoch >> 5\n",
            "--------------------\n",
            "predicted values after forward pass: \n",
            " [0 0 0 1]\n",
            "error: \n",
            "0    0\n",
            "1    0\n",
            "2    0\n",
            "3    0\n",
            "Name: y, dtype: int64\n",
            "updated weigths after epoch: 5/10: \n",
            "[0.09993672 0.10015376 0.1998657 ]\n",
            "####################\n",
            "--------------------\n",
            "for epoch >> 6\n",
            "--------------------\n",
            "predicted values after forward pass: \n",
            " [0 0 0 1]\n",
            "error: \n",
            "0    0\n",
            "1    0\n",
            "2    0\n",
            "3    0\n",
            "Name: y, dtype: int64\n",
            "updated weigths after epoch: 6/10: \n",
            "[0.09993672 0.10015376 0.1998657 ]\n",
            "####################\n",
            "--------------------\n",
            "for epoch >> 7\n",
            "--------------------\n",
            "predicted values after forward pass: \n",
            " [0 0 0 1]\n",
            "error: \n",
            "0    0\n",
            "1    0\n",
            "2    0\n",
            "3    0\n",
            "Name: y, dtype: int64\n",
            "updated weigths after epoch: 7/10: \n",
            "[0.09993672 0.10015376 0.1998657 ]\n",
            "####################\n",
            "--------------------\n",
            "for epoch >> 8\n",
            "--------------------\n",
            "predicted values after forward pass: \n",
            " [0 0 0 1]\n",
            "error: \n",
            "0    0\n",
            "1    0\n",
            "2    0\n",
            "3    0\n",
            "Name: y, dtype: int64\n",
            "updated weigths after epoch: 8/10: \n",
            "[0.09993672 0.10015376 0.1998657 ]\n",
            "####################\n",
            "--------------------\n",
            "for epoch >> 9\n",
            "--------------------\n",
            "predicted values after forward pass: \n",
            " [0 0 0 1]\n",
            "error: \n",
            "0    0\n",
            "1    0\n",
            "2    0\n",
            "3    0\n",
            "Name: y, dtype: int64\n",
            "updated weigths after epoch: 9/10: \n",
            "[0.09993672 0.10015376 0.1998657 ]\n",
            "####################\n"
          ]
        }
      ]
    },
    {
      "cell_type": "code",
      "source": [
        "model_and.save(filename=\"and.model\")"
      ],
      "metadata": {
        "id": "hbhZGIinK4jj"
      },
      "execution_count": 17,
      "outputs": []
    },
    {
      "cell_type": "code",
      "source": [
        "reload_and = Perceptron().load(filepath=\"/content/model/and.model\")"
      ],
      "metadata": {
        "id": "7-OE2DhYMYL8"
      },
      "execution_count": 18,
      "outputs": []
    },
    {
      "cell_type": "code",
      "source": [
        "reload_and.predict(X=[[1,1]])"
      ],
      "metadata": {
        "colab": {
          "base_uri": "https://localhost:8080/"
        },
        "id": "_V1q51XiMxRZ",
        "outputId": "d519df88-dd10-4e01-aaeb-c51b7bc70aca"
      },
      "execution_count": 19,
      "outputs": [
        {
          "output_type": "execute_result",
          "data": {
            "text/plain": [
              "array([1])"
            ]
          },
          "metadata": {},
          "execution_count": 19
        }
      ]
    },
    {
      "cell_type": "code",
      "source": [
        "reload_and.predict(X=[[0,1]])"
      ],
      "metadata": {
        "colab": {
          "base_uri": "https://localhost:8080/"
        },
        "id": "MHeb8QE9NXXr",
        "outputId": "5575e422-77bc-4f1e-bb20-c853c46a5656"
      },
      "execution_count": 20,
      "outputs": [
        {
          "output_type": "execute_result",
          "data": {
            "text/plain": [
              "array([0])"
            ]
          },
          "metadata": {},
          "execution_count": 20
        }
      ]
    },
    {
      "cell_type": "code",
      "source": [
        "import matplotlib.pyplot as plt\n",
        "from matplotlib.colors import ListedColormap"
      ],
      "metadata": {
        "id": "1gJpmX8kOtRV"
      },
      "execution_count": 27,
      "outputs": []
    },
    {
      "cell_type": "code",
      "source": [
        "def save_plot(df, model, filename= \"plot.png\",plot_dir = \"plots\"):\n",
        "  X,y = prepare_data(df)\n",
        "  def _create_base_plot(df):\n",
        "    df.plot(kind = \"scatter\", x = \"x1\",y = \"x2\", c=\"y\", s =100,cmap = \"coolwarm\")\n",
        "    plt.axhline(y=0, color = \"black\", linestyle = \"--\",linewidth = 1)\n",
        "    plt.axvline(x=0, color = \"black\", linestyle = \"--\",linewidth = 1)\n",
        "\n",
        "    figure = plt.gcf()#get current fig\n",
        "    figure.set_size_inches(10,8)\n",
        "  def _plot_decision_regions(X,y,classifier,resolution = 0.02):\n",
        "    colors = (\"cyan\",\"lightgreen\")\n",
        "    cmap = ListedColormap(colors)\n",
        "\n",
        "    X = X.values #as array\n",
        "    x1 = X[:,0]\n",
        "    x2 = X[:,1]\n",
        "\n",
        "    x1_min ,x1_max = x1.min()-1,x1.max()+1\n",
        "    x2_min ,x2_max = x2.min()-1,x2.max()+1\n",
        "\n",
        "    #mesh grid\n",
        "    xx1,xx2 = np.meshgrid(np.arange(x1_min,x1_max,resolution),\n",
        "                          np.arange(x1_min,x1_max,resolution))\n",
        "    y_hat = classifier.predict(np.array([xx1.ravel(),xx2.ravel()]).T)\n",
        "    y_hat = y_hat.reshape(xx1.shape)\n",
        "\n",
        "    plt.contourf(xx1,xx2, y_hat,alpha = 0.3, cmap = cmap)\n",
        "    plt.xlim(xx1.min(),xx1.max())\n",
        "    plt.ylim(xx2.min(),xx2.max())\n",
        "\n",
        "    plt.plot()\n",
        "\n",
        "  _create_base_plot(df)\n",
        "  _plot_decision_regions(X,y,model)\n",
        "\n",
        "  OS.makedirs(plot_dir,exist_ok = True)\n",
        "  plot_path = OS.path.join(plot_dir,filename)\n",
        "  plt.savefig(plot_path)"
      ],
      "metadata": {
        "id": "bWFK1u-qNZw5"
      },
      "execution_count": 34,
      "outputs": []
    },
    {
      "cell_type": "code",
      "source": [
        "save_plot(df_AND, model_and, filename= \"plot_and.png\")"
      ],
      "metadata": {
        "colab": {
          "base_uri": "https://localhost:8080/",
          "height": 701
        },
        "id": "d5xAOEVoTiNF",
        "outputId": "58aab8f4-63ae-40ae-dbf5-804281df91fb"
      },
      "execution_count": 35,
      "outputs": [
        {
          "output_type": "display_data",
          "data": {
            "text/plain": [
              "<Figure size 1000x800 with 2 Axes>"
            ],
            "image/png": "[encoded data removed]"
          },
          "metadata": {}
        }
      ]
    },
    {
      "cell_type": "code",
      "source": [],
      "metadata": {
        "id": "gnQDrP-jT_6k"
      },
      "execution_count": null,
      "outputs": []
    }
  ]
}